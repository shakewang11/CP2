{
 "cells": [
  {
   "cell_type": "code",
   "execution_count": 1,
   "metadata": {},
   "outputs": [],
   "source": [
    "import pandas as pd\n",
    "import numpy as np\n",
    "import matplotlib.pyplot as plt\n",
    "import seaborn as sns\n",
    "import nltk\n",
    "from nltk.corpus import stopwords\n",
    "from sklearn.feature_extraction.text import CountVectorizer"
   ]
  },
  {
   "cell_type": "code",
   "execution_count": 2,
   "metadata": {},
   "outputs": [],
   "source": [
    "yelp = pd.read_csv('training_data.csv')\n",
    "test = pd.read_csv('test_data.csv')"
   ]
  },
  {
   "cell_type": "code",
   "execution_count": 3,
   "metadata": {},
   "outputs": [
    {
     "data": {
      "text/plain": [
       "(7997, 6)"
      ]
     },
     "execution_count": 3,
     "metadata": {},
     "output_type": "execute_result"
    }
   ],
   "source": [
    "yelp.shape"
   ]
  },
  {
   "cell_type": "code",
   "execution_count": 4,
   "metadata": {
    "scrolled": true
   },
   "outputs": [
    {
     "data": {
      "text/html": [
       "<div>\n",
       "<style scoped>\n",
       "    .dataframe tbody tr th:only-of-type {\n",
       "        vertical-align: middle;\n",
       "    }\n",
       "\n",
       "    .dataframe tbody tr th {\n",
       "        vertical-align: top;\n",
       "    }\n",
       "\n",
       "    .dataframe thead th {\n",
       "        text-align: right;\n",
       "    }\n",
       "</style>\n",
       "<table border=\"1\" class=\"dataframe\">\n",
       "  <thead>\n",
       "    <tr style=\"text-align: right;\">\n",
       "      <th></th>\n",
       "      <th>review_id</th>\n",
       "      <th>business_id</th>\n",
       "      <th>user_id</th>\n",
       "      <th>text</th>\n",
       "      <th>date</th>\n",
       "      <th>stars</th>\n",
       "    </tr>\n",
       "  </thead>\n",
       "  <tbody>\n",
       "    <tr>\n",
       "      <th>0</th>\n",
       "      <td>3223</td>\n",
       "      <td>2055</td>\n",
       "      <td>2533</td>\n",
       "      <td>Sometimes things happen, and when they do this...</td>\n",
       "      <td>2010-12-30</td>\n",
       "      <td>5</td>\n",
       "    </tr>\n",
       "    <tr>\n",
       "      <th>1</th>\n",
       "      <td>9938</td>\n",
       "      <td>4165</td>\n",
       "      <td>6371</td>\n",
       "      <td>I know Kerrie through my networking and we ben...</td>\n",
       "      <td>2011-04-26</td>\n",
       "      <td>5</td>\n",
       "    </tr>\n",
       "    <tr>\n",
       "      <th>2</th>\n",
       "      <td>7123</td>\n",
       "      <td>869</td>\n",
       "      <td>4929</td>\n",
       "      <td>Love their pizza!!!\\nVery fresh. Their cannoli...</td>\n",
       "      <td>2012-09-28</td>\n",
       "      <td>5</td>\n",
       "    </tr>\n",
       "    <tr>\n",
       "      <th>3</th>\n",
       "      <td>3601</td>\n",
       "      <td>1603</td>\n",
       "      <td>2789</td>\n",
       "      <td>Being from NJ I am always on the prowl for my ...</td>\n",
       "      <td>2009-06-07</td>\n",
       "      <td>4</td>\n",
       "    </tr>\n",
       "    <tr>\n",
       "      <th>4</th>\n",
       "      <td>3948</td>\n",
       "      <td>2347</td>\n",
       "      <td>1245</td>\n",
       "      <td>We have tried this spot a few times and each v...</td>\n",
       "      <td>2011-02-20</td>\n",
       "      <td>4</td>\n",
       "    </tr>\n",
       "  </tbody>\n",
       "</table>\n",
       "</div>"
      ],
      "text/plain": [
       "   review_id  business_id  user_id  \\\n",
       "0       3223         2055     2533   \n",
       "1       9938         4165     6371   \n",
       "2       7123          869     4929   \n",
       "3       3601         1603     2789   \n",
       "4       3948         2347     1245   \n",
       "\n",
       "                                                text        date  stars  \n",
       "0  Sometimes things happen, and when they do this...  2010-12-30      5  \n",
       "1  I know Kerrie through my networking and we ben...  2011-04-26      5  \n",
       "2  Love their pizza!!!\\nVery fresh. Their cannoli...  2012-09-28      5  \n",
       "3  Being from NJ I am always on the prowl for my ...  2009-06-07      4  \n",
       "4  We have tried this spot a few times and each v...  2011-02-20      4  "
      ]
     },
     "execution_count": 4,
     "metadata": {},
     "output_type": "execute_result"
    }
   ],
   "source": [
    "yelp.head()"
   ]
  },
  {
   "cell_type": "code",
   "execution_count": 5,
   "metadata": {},
   "outputs": [
    {
     "name": "stdout",
     "output_type": "stream",
     "text": [
      "<class 'pandas.core.frame.DataFrame'>\n",
      "RangeIndex: 7997 entries, 0 to 7996\n",
      "Data columns (total 6 columns):\n",
      "review_id      7997 non-null int64\n",
      "business_id    7997 non-null int64\n",
      "user_id        7997 non-null int64\n",
      "text           7997 non-null object\n",
      "date           7997 non-null object\n",
      "stars          7997 non-null int64\n",
      "dtypes: int64(4), object(2)\n",
      "memory usage: 374.9+ KB\n"
     ]
    }
   ],
   "source": [
    "yelp.info()"
   ]
  },
  {
   "cell_type": "code",
   "execution_count": 6,
   "metadata": {},
   "outputs": [
    {
     "data": {
      "text/html": [
       "<div>\n",
       "<style scoped>\n",
       "    .dataframe tbody tr th:only-of-type {\n",
       "        vertical-align: middle;\n",
       "    }\n",
       "\n",
       "    .dataframe tbody tr th {\n",
       "        vertical-align: top;\n",
       "    }\n",
       "\n",
       "    .dataframe thead th {\n",
       "        text-align: right;\n",
       "    }\n",
       "</style>\n",
       "<table border=\"1\" class=\"dataframe\">\n",
       "  <thead>\n",
       "    <tr style=\"text-align: right;\">\n",
       "      <th></th>\n",
       "      <th>review_id</th>\n",
       "      <th>business_id</th>\n",
       "      <th>user_id</th>\n",
       "      <th>stars</th>\n",
       "    </tr>\n",
       "  </thead>\n",
       "  <tbody>\n",
       "    <tr>\n",
       "      <th>count</th>\n",
       "      <td>7997.000000</td>\n",
       "      <td>7997.000000</td>\n",
       "      <td>7997.000000</td>\n",
       "      <td>7997.000000</td>\n",
       "    </tr>\n",
       "    <tr>\n",
       "      <th>mean</th>\n",
       "      <td>4993.221458</td>\n",
       "      <td>1465.919720</td>\n",
       "      <td>2627.563711</td>\n",
       "      <td>3.777667</td>\n",
       "    </tr>\n",
       "    <tr>\n",
       "      <th>std</th>\n",
       "      <td>2892.665686</td>\n",
       "      <td>1141.276766</td>\n",
       "      <td>1868.212731</td>\n",
       "      <td>1.214629</td>\n",
       "    </tr>\n",
       "    <tr>\n",
       "      <th>min</th>\n",
       "      <td>2.000000</td>\n",
       "      <td>1.000000</td>\n",
       "      <td>1.000000</td>\n",
       "      <td>1.000000</td>\n",
       "    </tr>\n",
       "    <tr>\n",
       "      <th>25%</th>\n",
       "      <td>2479.000000</td>\n",
       "      <td>497.000000</td>\n",
       "      <td>927.000000</td>\n",
       "      <td>3.000000</td>\n",
       "    </tr>\n",
       "    <tr>\n",
       "      <th>50%</th>\n",
       "      <td>4984.000000</td>\n",
       "      <td>1197.000000</td>\n",
       "      <td>2365.000000</td>\n",
       "      <td>4.000000</td>\n",
       "    </tr>\n",
       "    <tr>\n",
       "      <th>75%</th>\n",
       "      <td>7497.000000</td>\n",
       "      <td>2273.000000</td>\n",
       "      <td>4163.000000</td>\n",
       "      <td>5.000000</td>\n",
       "    </tr>\n",
       "    <tr>\n",
       "      <th>max</th>\n",
       "      <td>9999.000000</td>\n",
       "      <td>4174.000000</td>\n",
       "      <td>6402.000000</td>\n",
       "      <td>5.000000</td>\n",
       "    </tr>\n",
       "  </tbody>\n",
       "</table>\n",
       "</div>"
      ],
      "text/plain": [
       "         review_id  business_id      user_id        stars\n",
       "count  7997.000000  7997.000000  7997.000000  7997.000000\n",
       "mean   4993.221458  1465.919720  2627.563711     3.777667\n",
       "std    2892.665686  1141.276766  1868.212731     1.214629\n",
       "min       2.000000     1.000000     1.000000     1.000000\n",
       "25%    2479.000000   497.000000   927.000000     3.000000\n",
       "50%    4984.000000  1197.000000  2365.000000     4.000000\n",
       "75%    7497.000000  2273.000000  4163.000000     5.000000\n",
       "max    9999.000000  4174.000000  6402.000000     5.000000"
      ]
     },
     "execution_count": 6,
     "metadata": {},
     "output_type": "execute_result"
    }
   ],
   "source": [
    "yelp.describe()"
   ]
  },
  {
   "cell_type": "code",
   "execution_count": 7,
   "metadata": {},
   "outputs": [
    {
     "data": {
      "text/html": [
       "<div>\n",
       "<style scoped>\n",
       "    .dataframe tbody tr th:only-of-type {\n",
       "        vertical-align: middle;\n",
       "    }\n",
       "\n",
       "    .dataframe tbody tr th {\n",
       "        vertical-align: top;\n",
       "    }\n",
       "\n",
       "    .dataframe thead th {\n",
       "        text-align: right;\n",
       "    }\n",
       "</style>\n",
       "<table border=\"1\" class=\"dataframe\">\n",
       "  <thead>\n",
       "    <tr style=\"text-align: right;\">\n",
       "      <th></th>\n",
       "      <th>review_id</th>\n",
       "      <th>business_id</th>\n",
       "      <th>user_id</th>\n",
       "      <th>text</th>\n",
       "      <th>date</th>\n",
       "      <th>stars</th>\n",
       "      <th>text length</th>\n",
       "    </tr>\n",
       "  </thead>\n",
       "  <tbody>\n",
       "    <tr>\n",
       "      <th>0</th>\n",
       "      <td>3223</td>\n",
       "      <td>2055</td>\n",
       "      <td>2533</td>\n",
       "      <td>Sometimes things happen, and when they do this...</td>\n",
       "      <td>2010-12-30</td>\n",
       "      <td>5</td>\n",
       "      <td>211</td>\n",
       "    </tr>\n",
       "    <tr>\n",
       "      <th>1</th>\n",
       "      <td>9938</td>\n",
       "      <td>4165</td>\n",
       "      <td>6371</td>\n",
       "      <td>I know Kerrie through my networking and we ben...</td>\n",
       "      <td>2011-04-26</td>\n",
       "      <td>5</td>\n",
       "      <td>426</td>\n",
       "    </tr>\n",
       "    <tr>\n",
       "      <th>2</th>\n",
       "      <td>7123</td>\n",
       "      <td>869</td>\n",
       "      <td>4929</td>\n",
       "      <td>Love their pizza!!!\\nVery fresh. Their cannoli...</td>\n",
       "      <td>2012-09-28</td>\n",
       "      <td>5</td>\n",
       "      <td>110</td>\n",
       "    </tr>\n",
       "    <tr>\n",
       "      <th>3</th>\n",
       "      <td>3601</td>\n",
       "      <td>1603</td>\n",
       "      <td>2789</td>\n",
       "      <td>Being from NJ I am always on the prowl for my ...</td>\n",
       "      <td>2009-06-07</td>\n",
       "      <td>4</td>\n",
       "      <td>442</td>\n",
       "    </tr>\n",
       "    <tr>\n",
       "      <th>4</th>\n",
       "      <td>3948</td>\n",
       "      <td>2347</td>\n",
       "      <td>1245</td>\n",
       "      <td>We have tried this spot a few times and each v...</td>\n",
       "      <td>2011-02-20</td>\n",
       "      <td>4</td>\n",
       "      <td>332</td>\n",
       "    </tr>\n",
       "  </tbody>\n",
       "</table>\n",
       "</div>"
      ],
      "text/plain": [
       "   review_id  business_id  user_id  \\\n",
       "0       3223         2055     2533   \n",
       "1       9938         4165     6371   \n",
       "2       7123          869     4929   \n",
       "3       3601         1603     2789   \n",
       "4       3948         2347     1245   \n",
       "\n",
       "                                                text        date  stars  \\\n",
       "0  Sometimes things happen, and when they do this...  2010-12-30      5   \n",
       "1  I know Kerrie through my networking and we ben...  2011-04-26      5   \n",
       "2  Love their pizza!!!\\nVery fresh. Their cannoli...  2012-09-28      5   \n",
       "3  Being from NJ I am always on the prowl for my ...  2009-06-07      4   \n",
       "4  We have tried this spot a few times and each v...  2011-02-20      4   \n",
       "\n",
       "   text length  \n",
       "0          211  \n",
       "1          426  \n",
       "2          110  \n",
       "3          442  \n",
       "4          332  "
      ]
     },
     "execution_count": 7,
     "metadata": {},
     "output_type": "execute_result"
    }
   ],
   "source": [
    "yelp['text length'] = yelp['text'].apply(len)\n",
    "test['text length'] = test['text'].apply(len)\n",
    "yelp.head()"
   ]
  },
  {
   "cell_type": "code",
   "execution_count": 8,
   "metadata": {},
   "outputs": [
    {
     "data": {
      "text/plain": [
       "<seaborn.axisgrid.FacetGrid at 0x2202f1ee6d8>"
      ]
     },
     "execution_count": 8,
     "metadata": {},
     "output_type": "execute_result"
    },
    {
     "data": {
      "image/png": "[encoded data removed]",
      "text/plain": [
       "<matplotlib.figure.Figure at 0x2202f1ee828>"
      ]
     },
     "metadata": {},
     "output_type": "display_data"
    }
   ],
   "source": [
    "g = sns.FacetGrid(data=yelp, col='stars')\n",
    "g.map(plt.hist, 'text length', bins=50)"
   ]
  },
  {
   "cell_type": "code",
   "execution_count": 9,
   "metadata": {},
   "outputs": [
    {
     "data": {
      "text/plain": [
       "<matplotlib.axes._subplots.AxesSubplot at 0x22030656828>"
      ]
     },
     "execution_count": 9,
     "metadata": {},
     "output_type": "execute_result"
    },
    {
     "data": {
      "image/png": "[encoded data removed]",
      "text/plain": [
       "<matplotlib.figure.Figure at 0x2202f57e470>"
      ]
     },
     "metadata": {},
     "output_type": "display_data"
    }
   ],
   "source": [
    "sns.boxplot(x='stars', y='text length', data=yelp)"
   ]
  },
  {
   "cell_type": "code",
   "execution_count": 10,
   "metadata": {},
   "outputs": [],
   "source": [
    "X = yelp['text']\n",
    "y = yelp['stars']"
   ]
  },
  {
   "cell_type": "code",
   "execution_count": 11,
   "metadata": {},
   "outputs": [
    {
     "data": {
      "text/plain": [
       "\"Sometimes things happen, and when they do this is the place where you want them taken care of. The orthopedics department and trauma department have some of the best, and nicest Doctors you'll find in the state.\""
      ]
     },
     "execution_count": 11,
     "metadata": {},
     "output_type": "execute_result"
    }
   ],
   "source": [
    "X[0]"
   ]
  },
  {
   "cell_type": "code",
   "execution_count": 12,
   "metadata": {},
   "outputs": [],
   "source": [
    "import string\n",
    "def text_process(text):\n",
    "    '''\n",
    "    Takes in a string of text, then performs the following:\n",
    "    1. Remove all punctuation\n",
    "    2. Remove all stopwords\n",
    "    3. Return the cleaned text as a list of words\n",
    "    '''\n",
    "    nopunc = [char for char in text if char not in string.punctuation]\n",
    "    nopunc = ''.join(nopunc)\n",
    "    \n",
    "    return [word for word in nopunc.split() if word.lower() not in stopwords.words('english')]"
   ]
  },
  {
   "cell_type": "code",
   "execution_count": 13,
   "metadata": {},
   "outputs": [
    {
     "name": "stdout",
     "output_type": "stream",
     "text": [
      "['Sometimes', 'things', 'happen', 'place', 'want', 'taken', 'care', 'orthopedics', 'department', 'trauma', 'department', 'best', 'nicest', 'Doctors', 'youll', 'find', 'state']\n"
     ]
    }
   ],
   "source": [
    "sample_text = X[0]\n",
    "print(text_process(sample_text))"
   ]
  },
  {
   "cell_type": "code",
   "execution_count": 14,
   "metadata": {},
   "outputs": [],
   "source": [
    "bow_transformer = CountVectorizer(analyzer=text_process).fit(X)"
   ]
  },
  {
   "cell_type": "code",
   "execution_count": 15,
   "metadata": {},
   "outputs": [
    {
     "data": {
      "text/plain": [
       "39002"
      ]
     },
     "execution_count": 15,
     "metadata": {},
     "output_type": "execute_result"
    }
   ],
   "source": [
    "len(bow_transformer.vocabulary_)"
   ]
  },
  {
   "cell_type": "code",
   "execution_count": 16,
   "metadata": {},
   "outputs": [
    {
     "data": {
      "text/plain": [
       "'Potbelly, you have been handed the torch.\\n\\nIt was a good ride Jimmy Johns, but you have no locations close to my newly purchased home.  Its not you, its me.  I promise.\\n\\nI love italian-style subs.  The Wreck at Potbelly is fantastic.  The Wreck salad is also great (for a salad).  \\n\\nThis place is my new go to sub shack.'"
      ]
     },
     "execution_count": 16,
     "metadata": {},
     "output_type": "execute_result"
    }
   ],
   "source": [
    "review_25 = X[24]\n",
    "review_25"
   ]
  },
  {
   "cell_type": "code",
   "execution_count": 17,
   "metadata": {},
   "outputs": [
    {
     "name": "stdout",
     "output_type": "stream",
     "text": [
      "  (0, 6713)\t1\n",
      "  (0, 6741)\t1\n",
      "  (0, 9587)\t2\n",
      "  (0, 13049)\t2\n",
      "  (0, 13851)\t1\n",
      "  (0, 17398)\t1\n",
      "  (0, 21296)\t1\n",
      "  (0, 22813)\t1\n",
      "  (0, 22869)\t1\n",
      "  (0, 23085)\t1\n",
      "  (0, 23463)\t1\n",
      "  (0, 24019)\t1\n",
      "  (0, 25209)\t1\n",
      "  (0, 26294)\t1\n",
      "  (0, 26424)\t1\n",
      "  (0, 28050)\t1\n",
      "  (0, 28061)\t1\n",
      "  (0, 29985)\t1\n",
      "  (0, 30770)\t1\n",
      "  (0, 30967)\t1\n",
      "  (0, 32127)\t1\n",
      "  (0, 32495)\t2\n",
      "  (0, 33240)\t1\n",
      "  (0, 35082)\t1\n",
      "  (0, 35100)\t1\n",
      "  (0, 36508)\t1\n"
     ]
    }
   ],
   "source": [
    "bow_25 = bow_transformer.transform([review_25])\n",
    "print(bow_25)"
   ]
  },
  {
   "cell_type": "code",
   "execution_count": 18,
   "metadata": {},
   "outputs": [
    {
     "name": "stdout",
     "output_type": "stream",
     "text": [
      "Potbelly\n",
      "Wreck\n",
      "salad\n"
     ]
    }
   ],
   "source": [
    "print(bow_transformer.get_feature_names()[9587])\n",
    "print(bow_transformer.get_feature_names()[13049])\n",
    "print(bow_transformer.get_feature_names()[32495])"
   ]
  },
  {
   "cell_type": "code",
   "execution_count": 19,
   "metadata": {},
   "outputs": [],
   "source": [
    "X = bow_transformer.transform(X)"
   ]
  },
  {
   "cell_type": "code",
   "execution_count": 20,
   "metadata": {},
   "outputs": [
    {
     "name": "stdout",
     "output_type": "stream",
     "text": [
      "Shape of Sparse Matrix:  (7997, 39002)\n",
      "Amount of Non-Zero occurrences:  464225\n",
      "Density: 0.14883824857735836\n"
     ]
    }
   ],
   "source": [
    "print('Shape of Sparse Matrix: ', X.shape)\n",
    "print('Amount of Non-Zero occurrences: ', X.nnz)\n",
    "# Percentage of non-zero values\n",
    "density = (100.0 * X.nnz / (X.shape[0] * X.shape[1]))\n",
    "print('Density: {}'.format((density)))"
   ]
  },
  {
   "cell_type": "code",
   "execution_count": 22,
   "metadata": {},
   "outputs": [],
   "source": [
    "import numpy as np\n",
    "from sklearn import cross_validation\n",
    "from sklearn import datasets\n",
    "from sklearn import svm\n",
    "\n",
    "X_train, X_test, y_train, y_test = cross_validation.train_test_split(\n",
    "    X, y, test_size=0.20, random_state=0)\n"
   ]
  },
  {
   "cell_type": "code",
   "execution_count": 23,
   "metadata": {},
   "outputs": [
    {
     "data": {
      "text/plain": [
       "MultinomialNB(alpha=1.0, class_prior=None, fit_prior=True)"
      ]
     },
     "execution_count": 23,
     "metadata": {},
     "output_type": "execute_result"
    }
   ],
   "source": [
    "from sklearn.naive_bayes import MultinomialNB\n",
    "nb = MultinomialNB()\n",
    "nb1 = MultinomialNB()\n",
    "nb.fit(X_train, y_train)\n",
    "nb1.fit(X, y)"
   ]
  },
  {
   "cell_type": "code",
   "execution_count": 24,
   "metadata": {},
   "outputs": [],
   "source": [
    "preds = nb.predict(X_test)"
   ]
  },
  {
   "cell_type": "code",
   "execution_count": 25,
   "metadata": {},
   "outputs": [
    {
     "name": "stdout",
     "output_type": "stream",
     "text": [
      "[[ 22  11  11  51  20]\n",
      " [  4  11  15  94  16]\n",
      " [  0   5  15 205  21]\n",
      " [  3   3  11 412 129]\n",
      " [  2   2   5 236 296]]\n",
      "\n",
      "\n",
      "             precision    recall  f1-score   support\n",
      "\n",
      "          1       0.71      0.19      0.30       115\n",
      "          2       0.34      0.08      0.13       140\n",
      "          3       0.26      0.06      0.10       246\n",
      "          4       0.41      0.74      0.53       558\n",
      "          5       0.61      0.55      0.58       541\n",
      "\n",
      "avg / total       0.47      0.47      0.43      1600\n",
      "\n"
     ]
    }
   ],
   "source": [
    "from sklearn.metrics import confusion_matrix, classification_report\n",
    "print(confusion_matrix(y_test, preds))\n",
    "print('\\n')\n",
    "print(classification_report(y_test, preds))"
   ]
  },
  {
   "cell_type": "code",
   "execution_count": 26,
   "metadata": {},
   "outputs": [
    {
     "name": "stdout",
     "output_type": "stream",
     "text": [
      "star: 5\n",
      "\n",
      "\n",
      "Huge fan of Bikram yoga! It's a 90 minute, torturous-at-times, sweat-filled  workout but when you are done, you feel insanely amazing. The feeling continues throughout the day leaving you in complete zen....Road rage? Gone. Annoying food cravings? Zero. Jeans? Fitting awesome. You really must try it, it can completely change your body.\n",
      "\n",
      "There are a few places in the valley that offer Bikram, most of them exclusively rather than in combo with other methods of yoga. The Bikram Institute on Miller and Indian School is where I first tried it, and I like it the best so far. They offer classes throughout the day and later in the evening as well. Like other studios, this place offers first timers a week-long pass for around $20. What I really like about this studio is their instructors and the fact that they keep their room darkened throughout the entire practice. I've have been going to another studio lately (for their first-time student deals) and their instructors bark out instructions non-stop plus they keep the lights on the whole time. So when you're staring up lying in your relaxed state, your eyes meet the glare of the fluorescent. \n",
      "\n",
      "I'll very likely return here after I've exhausted the new student deals at the studios around the valley. Yoga can be expensive!\n",
      "\n",
      "\n",
      "predict star: 5\n"
     ]
    }
   ],
   "source": [
    "positive_review = yelp['text'][59]\n",
    "print('star:',yelp['stars'][59])\n",
    "print('\\n')\n",
    "print(positive_review)\n",
    "positive_review_transformed = bow_transformer.transform([positive_review])\n",
    "print('\\n')\n",
    "print('predict star:',nb.predict(positive_review_transformed)[0])"
   ]
  },
  {
   "cell_type": "code",
   "execution_count": 27,
   "metadata": {},
   "outputs": [
    {
     "name": "stdout",
     "output_type": "stream",
     "text": [
      "star: 1\n",
      "\n",
      "\n",
      "$8 for a tiny sandwich with one egg, two greasy strips of bacon, and a stale muffin. They say it's pricy because they get it local? It has to have substance to be considered anything. So whack.\n",
      "\n",
      "\n",
      "predict star: 4\n"
     ]
    }
   ],
   "source": [
    "negative_review = yelp['text'][7975]\n",
    "print('star:',yelp['stars'][7975])\n",
    "print('\\n')\n",
    "print(negative_review)\n",
    "negative_review_transformed = bow_transformer.transform([negative_review])\n",
    "print('\\n')\n",
    "print('predict star:',nb.predict(negative_review_transformed)[0])"
   ]
  },
  {
   "cell_type": "code",
   "execution_count": 28,
   "metadata": {},
   "outputs": [
    {
     "data": {
      "text/plain": [
       "0       Ticoz is not a bad place.  The menu is eclecti...\n",
       "1       Wow!\\nBeing a Phoenix native, we have enjoyed ...\n",
       "2       Jodi is fantastic!  Extraordinary!  After too ...\n",
       "3       T&S Glass did a wonderful job replacing my car...\n",
       "4       My experience was on a random Saturday afterno...\n",
       "5       I waited months before finally getting around ...\n",
       "6       I was in Phoenix for three weeks on a business...\n",
       "7       I work right across the street and a few of us...\n",
       "8       I really enjoy That's A Wrap... all of the foo...\n",
       "9       Sadly, I have to join the crowd on this one. I...\n",
       "10      Fabulous. \\n\\nHoly Kobe Beef Burger with Avoca...\n",
       "11      I've been visiting, and thinking, and visiting...\n",
       "12      Long ago, Salvation Army used to be the place ...\n",
       "13      Meh....decent Filibertos knockoff but the plac...\n",
       "14      Ok, I'm new to the whole Thai food thing, and ...\n",
       "15      I am one of those people that talk crap about ...\n",
       "16      Eh, lukewarm feelings about this one.  I had l...\n",
       "17      I have been coming to Lux for years ever since...\n",
       "18      Yummy!\\nWorth the wait. Yes, it is all the hyp...\n",
       "19      After a year in the Valley, one of my girlfrie...\n",
       "20      This place, to me, is just like Aloha Eats in ...\n",
       "21      I usually throw away those value pack coupon e...\n",
       "22      Went there for a second time on Sunday.  The f...\n",
       "23      The ever evolving menu changes again, But a co...\n",
       "24      Live music, plenty of beer on tap, and a very ...\n",
       "25      I had not planned on being a Mac owner.  My fa...\n",
       "26      My fav Mexican place by far!  They make the mo...\n",
       "27      The best gyro you will have in Arizona...\\nor ...\n",
       "28      I like Over Easy. The former location had more...\n",
       "29      I've always wanted to go to Rokerij and when m...\n",
       "                              ...                        \n",
       "1973    These guys helped me out with my rear windshie...\n",
       "1974    I was not happy with the service department.  ...\n",
       "1975    I really really like Frances.  I love most of ...\n",
       "1976    When you specialize in something, then you sho...\n",
       "1977    I love this place!!! OK. where do I start.. Gr...\n",
       "1978    The salad plates were not chilled... As they u...\n",
       "1979    New N. Scottsdale location, Baaaaaaad!  The we...\n",
       "1980                                  No bad for a chain.\n",
       "1981    I love this place. What can I say? \\n\\nRichard...\n",
       "1982    My husband and I absolutely LOVE this restaura...\n",
       "1983    The food here is awesome every time I come her...\n",
       "1984    Not your typical deli meat-this is the real de...\n",
       "1985    I can't believe it took me this long to visit ...\n",
       "1986    Sometimes you just gotta have a burger.  I was...\n",
       "1987    holy crap.  try the side order of garlic mushr...\n",
       "1988    Haven't been to a Chili's in FOREVER but those...\n",
       "1989    Sky Harbor is one poor gateway to the city of ...\n",
       "1990    Umm is it possible to give MORE than 5 stars!?...\n",
       "1991    As good as all the others, and closer to home ...\n",
       "1992    This place is a bit difficult to find granted ...\n",
       "1993    OPEN for business!!  It's located in the Canyo...\n",
       "1994    This gym is great...  I joined because it open...\n",
       "1995    I like Zuma and I don't think it warrants such...\n",
       "1996    Horrendously overpriced. ~$13 for an xlarge 2 ...\n",
       "1997    Amazing greek food! Definitely try the greek f...\n",
       "1998    Never having dealt with a Discount Tire in Pho...\n",
       "1999    Pretty good. Oxtail was awesome. Plantains wer...\n",
       "2000    Can't wait to go here again. Had the shrimp po...\n",
       "2001    I have never written a review, but the food at...\n",
       "2002    My vintage shopping in the Phoenix area has be...\n",
       "Name: text, Length: 2003, dtype: object"
      ]
     },
     "execution_count": 28,
     "metadata": {},
     "output_type": "execute_result"
    }
   ],
   "source": [
    "test['stars'] = 0\n",
    "review = test['text']\n",
    "review"
   ]
  },
  {
   "cell_type": "code",
   "execution_count": 29,
   "metadata": {},
   "outputs": [
    {
     "name": "stderr",
     "output_type": "stream",
     "text": [
      "C:\\Users\\an651_000\\Anaconda3\\lib\\site-packages\\ipykernel_launcher.py:4: SettingWithCopyWarning: \n",
      "A value is trying to be set on a copy of a slice from a DataFrame\n",
      "\n",
      "See the caveats in the documentation: http://pandas.pydata.org/pandas-docs/stable/indexing.html#indexing-view-versus-copy\n",
      "  after removing the cwd from sys.path.\n"
     ]
    }
   ],
   "source": [
    "for i in range(len(review)):\n",
    "    review_transformed = bow_transformer.transform([review[i]])\n",
    "    predict = nb.predict(review_transformed)\n",
    "    test['stars'][i] = predict\n",
    " "
   ]
  },
  {
   "cell_type": "code",
   "execution_count": 30,
   "metadata": {},
   "outputs": [],
   "source": [
    "columns = [\"review_id\",\"stars\"]\n",
    "submission = test[columns]\n"
   ]
  },
  {
   "cell_type": "code",
   "execution_count": 31,
   "metadata": {},
   "outputs": [],
   "source": [
    "submission.to_csv(\"submission.csv\",index=False,sep=',',header=False)"
   ]
  },
  {
   "cell_type": "code",
   "execution_count": null,
   "metadata": {},
   "outputs": [],
   "source": []
  }
 ],
 "metadata": {
  "kernelspec": {
   "display_name": "Python 3",
   "language": "python",
   "name": "python3"
  },
  "language_info": {
   "codemirror_mode": {
    "name": "ipython",
    "version": 3
   },
   "file_extension": ".py",
   "mimetype": "text/x-python",
   "name": "python",
   "nbconvert_exporter": "python",
   "pygments_lexer": "ipython3",
   "version": "3.6.4"
  }
 },
 "nbformat": 4,
 "nbformat_minor": 2
}
